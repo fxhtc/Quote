{
  "cells": [
    {
      "metadata": {
        "trusted": true
      },
      "cell_type": "code",
      "source": "import re\nimport json\nfrom urllib import request\n\n# need to manually input LME adj levels\nLME1_adj = 148-33-65\nLME2_adj = LME1_adj - 40\nLME3_adj = LME2_adj - 18\n\n# codes to get from https://futures.cngold.org/qhpz/\nLME_code = 'JO_92270'\nshfe1_code = 'JO_165652'\nshfe2_code = 'JO_165653'\nshfe3_code = 'JO_165654'\ncodes = [LME_code,shfe1_code,shfe2_code,shfe3_code]\n\n## To get zn prices\nurl1 = \"http://api.jijinhao.com/quoteCenter/realTime.htm?codes=\" + \",\".join(codes)\nreq1 = request.Request(url1)\nres1 = request.urlopen(req1)\ndata1 = res1.read().decode('utf-8')\n\n## To get CNH\nurl3 = \"http://webforex.hermes.hexun.com/forex/quotelist?code=FOREXUSDCNH&column=Code,Price\"\nreq3 = request.Request(url3)\nf3 = request.urlopen(req3)\ndata3 = f3.read().decode(\"utf-8\")\n\ns1 = re.findall(\"{.*}\",str(data1))[0]\nsjson1 = json.loads(s1)\nLME = sjson1[LME_code]['q6'] #ask price\nLME_name = sjson1[LME_code]['showName']\nLME1 = LME + LME1_adj\nLME2 = LME + LME2_adj\nLME3 = LME + LME3_adj\nprint(LME_name + \" first : \" + str(LME1))\nprint(LME_name + \" second : \" + str(LME2))\nprint(LME_name + \" third : \" + str(LME3))\n\nshfe1 = sjson1[shfe1_code]['q5'] #bid price\nshfe1_name = sjson1[shfe1_code]['showName']\nprint(shfe1_name + \" : \" + str(shfe1))\n\nshfe2 = sjson1[shfe2_code]['q5'] #bid price\nshfe2_name = sjson1[shfe2_code]['showName']\nprint(shfe2_name + \" : \" + str(shfe2))\n\nshfe3 = sjson1[shfe3_code]['q5'] #bid price\nshfe3_name = sjson1[shfe3_code]['showName']\nprint(shfe3_name + \" : \" + str(shfe3))\n\ns3 = re.findall(\"{.*}\",str(data3))[0]\nsjson3 = json.loads(s3)\nFX = sjson3[\"Data\"][0][0][1]/10000\nname3 = sjson3[\"Data\"][0][0][0]\nprint(name3 + \" : \" + str(FX))\n\nArb1 = shfe1/FX/1.13 - LME1\nArb2 = shfe2/FX/1.13 - LME2\nArb3 = shfe3/FX/1.13 - LME3\nprint(\"Arb \" + shfe1_name[2:] + \": \" + str(round(Arb1)))\nprint(\"Arb \" + shfe2_name[2:] + \": \" + str(round(Arb2)))\nprint(\"Arb \" + shfe3_name[2:] + \": \" + str(round(Arb3)))",
      "execution_count": 52,
      "outputs": [
        {
          "output_type": "stream",
          "text": "伦锌电3 first : 2563.0\n伦锌电3 second : 2523.0\n伦锌电3 third : 2505.0\n沪锌1907 : 20610.0\n沪锌1908 : 20235.0\n沪锌1909 : 19985.0\nUSDCNH : 6.9275\nArb 1907: 70\nArb 1908: 62\nArb 1909: 48\n",
          "name": "stdout"
        }
      ]
    },
    {
      "metadata": {
        "trusted": true
      },
      "cell_type": "code",
      "source": "import re\nimport json\nfrom urllib import request\n\n# need to manually input LME adj levels\nLME1_adj = 33.5-18-13\nLME2_adj = LME1_adj \nLME3_adj = LME2_adj - 2\n\n# codes to get from https://futures.cngold.org/qhpz/\nLME_code = 'JO_92266'\nshfe1_code = 'JO_165626'\nshfe2_code = 'JO_165627'\nshfe3_code = 'JO_165628'\ncodes = [LME_code,shfe1_code,shfe2_code,shfe3_code]\n\n## To get zn prices\nurl1 = \"http://api.jijinhao.com/quoteCenter/realTime.htm?codes=\" + \",\".join(codes)\nreq1 = request.Request(url1)\nres1 = request.urlopen(req1)\ndata1 = res1.read().decode('utf-8')\n\n## To get CNH\nurl3 = \"http://webforex.hermes.hexun.com/forex/quotelist?code=FOREXUSDCNH&column=Code,Price\"\nreq3 = request.Request(url3)\nf3 = request.urlopen(req3)\ndata3 = f3.read().decode(\"utf-8\")\n\ns1 = re.findall(\"{.*}\",str(data1))[0]\nsjson1 = json.loads(s1)\nLME = sjson1[LME_code]['q6'] #ask price\nLME_name = sjson1[LME_code]['showName']\nLME1 = LME + LME1_adj\nLME2 = LME + LME2_adj\nLME3 = LME + LME3_adj\nprint(LME_name + \" first : \" + str(LME1))\nprint(LME_name + \" second : \" + str(LME2))\nprint(LME_name + \" third : \" + str(LME3))\n\nshfe1 = sjson1[shfe1_code]['q5'] #bid price\nshfe1_name = sjson1[shfe1_code]['showName']\nprint(shfe1_name + \" : \" + str(shfe1))\n\nshfe2 = sjson1[shfe2_code]['q5'] #bid price\nshfe2_name = sjson1[shfe2_code]['showName']\nprint(shfe2_name + \" : \" + str(shfe2))\n\nshfe3 = sjson1[shfe3_code]['q5'] #bid price\nshfe3_name = sjson1[shfe3_code]['showName']\nprint(shfe3_name + \" : \" + str(shfe3))\n\ns3 = re.findall(\"{.*}\",str(data3))[0]\nsjson3 = json.loads(s3)\nFX = sjson3[\"Data\"][0][0][1]/10000\nname3 = sjson3[\"Data\"][0][0][0]\nprint(name3 + \" : \" + str(FX))\n\nArb1 = shfe1/FX/1.13 - LME1\nArb2 = shfe2/FX/1.13 - LME2\nArb3 = shfe3/FX/1.13 - LME3\nprint(\"Arb \" + shfe1_name[2:] + \": \" + str(round(Arb1)))\nprint(\"Arb \" + shfe2_name[2:] + \": \" + str(round(Arb2)))\nprint(\"Arb \" + shfe3_name[2:] + \": \" + str(round(Arb3)))",
      "execution_count": 48,
      "outputs": [
        {
          "output_type": "stream",
          "text": "伦铅电3 first : 1895.0\n伦铅电3 second : 1895.0\n伦铅电3 third : 1893.0\n沪铅1907 : 16045.0\n沪铅1908 : 16025.0\n沪铅1909 : 16025.0\nUSDCNH : 6.9321\nArb 1907: 153\nArb 1908: 151\nArb 1909: 153\n",
          "name": "stdout"
        }
      ]
    }
  ],
  "metadata": {
    "kernelspec": {
      "name": "python36",
      "display_name": "Python 3.6",
      "language": "python"
    },
    "language_info": {
      "mimetype": "text/x-python",
      "nbconvert_exporter": "python",
      "name": "python",
      "pygments_lexer": "ipython3",
      "version": "3.6.6",
      "file_extension": ".py",
      "codemirror_mode": {
        "version": 3,
        "name": "ipython"
      }
    }
  },
  "nbformat": 4,
  "nbformat_minor": 1
}