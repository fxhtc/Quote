import re
import json
from urllib import request

# need to manually input LME adj levels
LME1_adj = 148-33-65
LME2_adj = LME1_adj - 40
LME3_adj = LME2_adj - 18

# codes to get from https://futures.cngold.org/qhpz/
LME_code = 'JO_92270'
shfe1_code = 'JO_165652'
shfe2_code = 'JO_165653'
shfe3_code = 'JO_165654'
codes = [LME_code,shfe1_code,shfe2_code,shfe3_code]

## To get zn prices
url1 = "http://api.jijinhao.com/quoteCenter/realTime.htm?codes=" + ",".join(codes)
req1 = request.Request(url1)
res1 = request.urlopen(req1)
data1 = res1.read().decode('utf-8')

## To get CNH
url3 = "http://webforex.hermes.hexun.com/forex/quotelist?code=FOREXUSDCNH&column=Code,Price"
req3 = request.Request(url3)
f3 = request.urlopen(req3)
data3 = f3.read().decode("utf-8")

s1 = re.findall("{.*}",str(data1))[0]
sjson1 = json.loads(s1)
LME = sjson1[LME_code]['q6'] #ask price
LME_name = sjson1[LME_code]['showName']
LME1 = LME + LME1_adj
LME2 = LME + LME2_adj
LME3 = LME + LME3_adj
print(LME_name + " first : " + str(LME1))
print(LME_name + " second : " + str(LME2))
print(LME_name + " third : " + str(LME3))

shfe1 = sjson1[shfe1_code]['q5'] #bid price
shfe1_name = sjson1[shfe1_code]['showName']
print(shfe1_name + " : " + str(shfe1))

shfe2 = sjson1[shfe2_code]['q5'] #bid price
shfe2_name = sjson1[shfe2_code]['showName']
print(shfe2_name + " : " + str(shfe2))

shfe3 = sjson1[shfe3_code]['q5'] #bid price
shfe3_name = sjson1[shfe3_code]['showName']
print(shfe3_name + " : " + str(shfe3))

s3 = re.findall("{.*}",str(data3))[0]
sjson3 = json.loads(s3)
FX = sjson3["Data"][0][0][1]/10000
name3 = sjson3["Data"][0][0][0]
print(name3 + " : " + str(FX))

Arb1 = shfe1/FX/1.13 - LME1
Arb2 = shfe2/FX/1.13 - LME2
Arb3 = shfe3/FX/1.13 - LME3
print("Arb " + shfe1_name[2:] + ": " + str(round(Arb1)))
print("Arb " + shfe2_name[2:] + ": " + str(round(Arb2)))
print("Arb " + shfe3_name[2:] + ": " + str(round(Arb3)))
